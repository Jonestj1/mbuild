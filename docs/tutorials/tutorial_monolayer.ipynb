{
 "cells": [
  {
   "cell_type": "markdown",
   "metadata": {},
   "source": [
    "Monolayer: Complex hierarchies, masks, tiling and writing to files\n",
    "---------------------------------------------------------------\n",
    "\n",
    "In this example, we'll cover assembling more complex hierarchies of components using masks, tiling and how to output systems to files. To illustrate these concepts, let's build an alkane monolayer on a crystalline substrate.\n",
    "\n",
    "First, let's build our monomers and functionalized them with a silane group which we can then attach to the substrate:"
   ]
  },
  {
   "cell_type": "code",
   "metadata": {},
   "outputs": [],
   "source": [
    "import mbuild as mb\n",
    "\n",
    "from mbuild.examples import Alkane\n",
    "from mbuild.components.small_groups.silane import Silane\n",
    "\n",
    "\n",
    "class AlkylSilane(mb.Compound):\n",
    "    \"\"\"A silane functionalized alkane chain with one Port. \"\"\"\n",
    "    def __init__(self, chain_length):\n",
    "        super(AlkylSilane, self).__init__()\n",
    "\n",
    "        alkane = Alkane(chain_length, cap_end=False)\n",
    "        self.add(alkane, 'alkane')\n",
    "        silane = Silane()\n",
    "        self.add(silane, 'silane')\n",
    "        mb.equivalence_transform(self.alkane, self.alkane.down, self.silane.up)\n",
    "\n",
    "        # Hoist silane port to AlkylSilane level.\n",
    "        self.add(silane.down, 'down', containment=False)"
   ]
  },
  {
   "cell_type": "code",
   "metadata": {},
   "outputs": [],
   "source": [
    "AlkylSilane(5).visualize()"
   ]
  },
  {
   "cell_type": "markdown",
   "metadata": {},
   "source": [
    "The `Alkane` example uses the `polymer` tool to combine `CH2` and `CH3` repeat units. You also have the option to cap the front and back of the chain or to leave a `CH2` group with a dangling port. The `Silane` compound is a Si(OH)<sub>2</sub> group with two ports facing out from the central Si. Lastly, we combine `alkane` with `silane` and adding a label to `AlkylSilane` which points to\n",
    "`silane.down` so that we can reference it later."
   ]
  },
  {
   "cell_type": "markdown",
   "metadata": {},
   "source": [
    "Now let's create a substrate to which we can later attach our monomers:"
   ]
  },
  {
   "cell_type": "code",
   "execution_count": 12,
   "metadata": {},
   "outputs": [],
   "source": [
    "import mbuild as mb\n",
    "from mbuild.components.surfaces.betacristobalite import Betacristobalite\n",
    "\n",
    "surface = Betacristobalite()\n",
    "tiled_surface = mb.TiledCompound(surface, n_tiles=(2, 1, 1))"
   ]
  },
  {
   "cell_type": "markdown",
   "metadata": {},
   "source": [
    "Here we've imported a beta-cristobalite surface from our component library. The `TiledCompound` tool allows you replicate any `Compound` in the x-, y-\n",
    "and z-directions by any number of times - 2, 3 and 1 for our case.\n",
    "\n",
    "Next, let's create our monomer and a hydrogen atom that we'll place on unoccupied surface sites:"
   ]
  },
  {
   "cell_type": "code",
   "execution_count": 13,
   "metadata": {},
   "outputs": [],
   "source": [
    "from mbuild.components.atoms.H import H\n",
    "alkylsilane = AlkylSilane(chain_length=10)\n",
    "hydrogen = H()"
   ]
  },
  {
   "cell_type": "markdown",
   "metadata": {},
   "source": [
    "Then we need to tell mBuild how to arrange the chains on the surface. This is accomplished with the \"mask\" tools. Every mask is just a collection of points. There are all kinds of masks like spherical, 2D, regular, irregular etc. When you use the `apply_mask` command, you effectively superimpose the mask onto the host compound, mBuild figures out what the closest ports are to the mask points and then attach copies of the guest onto the binding sites identified by the mask:\n"
   ]
  },
  {
   "cell_type": "code",
   "execution_count": 14,
   "metadata": {},
   "outputs": [],
   "source": [
    "mask = mb.grid_mask_2d(8, 8)  # Evenly spaced, 2D grid of points.\n",
    "\n",
    "# Attach chains to specified binding sites. Other sites get a hydrogen.\n",
    "alkyl_silanes, hydrogens = mb.apply_mask(host=tiled_surface, guest=alkylsilane, mask=mask, backfill=hydrogen)"
   ]
  },
  {
   "cell_type": "markdown",
   "metadata": {},
   "source": [
    "Also note the `backfill` optional argument which allows you to place a different compound on any unused ports. In this case we want to backfill with hydrogen atoms on every port without a chain.\n",
    "\n",
    "\n",
    "And that's it! Check out `examples.alkane_monolayer` for the fully wrapped class."
   ]
  },
  {
   "cell_type": "code",
   "execution_count": 15,
   "metadata": {},
   "outputs": [
    {
     "metadata": {}
    },
    {
     "metadata": {}
    },
    {
     "metadata": {}
    },
    {
     "name": "stdout",
     "output_type": "stream",
     "text": [
      "{'colorBy': 'atom'}\n",
      "{'target_name': 'ipython.widget', 'data': {'model_name': 'WidgetModel', 'model_module': None}}\n",
      "<IPython.kernel.zmq.ipkernel.IPythonKernel object at 0x103b7c7b8>\n"
     ]
    }
   ],
   "source": [
    "tiled_surface.add(alkyl_silanes)\n",
    "tiled_surface.add(hydrogens)\n",
    "tiled_surface.visualize()  # Warning: may be slow in IPython notebooks"
   ]
  },
  {
   "cell_type": "code",
   "metadata": {},
   "outputs": [],
   "source": [
    ""
   ]
  },
  {
   "cell_type": "code",
   "metadata": {},
   "outputs": [],
   "source": [
    ""
   ]
  }
 ],
 "metadata": {
  "kernelspec": {
   "display_name": "Python 3",
   "language": "python",
   "name": "python3"
  },
  "language_info": {
   "codemirror_mode": {
    "name": "ipython",
    "version": 3.0
   },
   "file_extension": ".py",
   "mimetype": "text/x-python",
   "name": "python",
   "nbconvert_exporter": "python",
   "pygments_lexer": "ipython3",
   "version": "3.4.3"
  }
 },
 "nbformat": 4,
 "nbformat_minor": 0
}